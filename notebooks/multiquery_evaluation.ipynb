{
 "cells": [
  {
   "cell_type": "markdown",
   "metadata": {},
   "source": [
    "# Multi Query Strategy Evaluation\n",
    "The simple pipeline approach can be improved by using a Multi Query strategy. The goal of this strategy is to enhance the performance of the Retrieval Augmented Generation (RAG) model, particularly the context recall metrics. The key idea is to retrieve the documents that are most relevant for answering the user's query. The hypothesis is that the user's intended question may differ from the way they have written the query.\n",
    "\n",
    "To address this, the Multi Query strategy involves rewriting the user's query 5 times from different perspectives. This is done to uncover the relevant documents that can provide the necessary context. A chunk of text is then retrieved for each of these rewritten queries. Finally, the unique union of all these retrieved documents is used as the context for answering the original user query.\n",
    "\n",
    "The motivation behind this approach is to better capture the user's underlying informational need, even if it is not fully reflected in the initial query formulation. By diversifying the queries and aggregating the retrieved contexts, the system aims to improve the overall performance and relevance of the responses."
   ]
  },
  {
   "cell_type": "code",
   "execution_count": 1,
   "metadata": {},
   "outputs": [
    {
     "name": "stderr",
     "output_type": "stream",
     "text": [
      "/home/jabez/rizzbuzz with poetry/RAG-Optimization-System/.venv/lib/python3.10/site-packages/tqdm/auto.py:21: TqdmWarning: IProgress not found. Please update jupyter and ipywidgets. See https://ipywidgets.readthedocs.io/en/stable/user_install.html\n",
      "  from .autonotebook import tqdm as notebook_tqdm\n"
     ]
    }
   ],
   "source": [
    "# Importing libraries\n",
    "import sys\n",
    "from dotenv import load_dotenv\n",
    "import pandas as pd\n",
    "sys.path.insert(1, '/home/jabez/week_11/Contract-Advisor-RAG')\n",
    "load_dotenv()\n",
    "sys.path.insert(1, '/home/jabez/rizzbuzz with poetry/RAG-Optimization-System/scripts')\n",
    "import file_loader \n",
    "import pipelines \n",
    "import evaluation"
   ]
  },
  {
   "cell_type": "code",
   "execution_count": 2,
   "metadata": {},
   "outputs": [],
   "source": [
    "# Loading data\n",
    "file_path = '/home/jabez/rizzbuzz with poetry/RAG-Optimization-System/data/cnn_dailymail_3.0.0.csv'\n",
    "data = file_loader.load_csv(file_path)"
   ]
  },
  {
   "cell_type": "code",
   "execution_count": 3,
   "metadata": {},
   "outputs": [],
   "source": [
    "# Setting character text splitter\n",
    "chunk_size= 1000\n",
    "chunk_overlap= 250\n",
    "vectorstore_character = file_loader.character_text_splitter(data,chunk_size, chunk_overlap)"
   ]
  },
  {
   "cell_type": "code",
   "execution_count": 3,
   "metadata": {},
   "outputs": [],
   "source": [
    "# Setting semantic text splitter\n",
    "vectorstore_semantic = file_loader.semantic_text_splitter(data)"
   ]
  },
  {
   "cell_type": "code",
   "execution_count": 8,
   "metadata": {},
   "outputs": [],
   "source": [
    "# Loading syntetic test data\n",
    "syntetic_test_data =pd.read_csv('/home/jabez/rizzbuzz with poetry/RAG-Optimization-System/test_data/syntetic_test_data.csv')"
   ]
  },
  {
   "cell_type": "code",
   "execution_count": 6,
   "metadata": {},
   "outputs": [],
   "source": [
    "# Setting retriever for character based chuncking \n",
    "retriver = vectorstore_character.as_retriever(search_type=\"similarity\", search_kwargs={\"k\": 6})"
   ]
  },
  {
   "cell_type": "code",
   "execution_count": 6,
   "metadata": {},
   "outputs": [],
   "source": [
    "# Setting retriever for semantic based chuncking\n",
    "retriver_semantic = vectorstore_semantic.as_retriever(search_type=\"similarity\", search_kwargs={\"k\": 6})"
   ]
  },
  {
   "cell_type": "code",
   "execution_count": 9,
   "metadata": {},
   "outputs": [
    {
     "name": "stderr",
     "output_type": "stream",
     "text": [
      "/home/jabez/rizzbuzz with poetry/RAG-Optimization-System/.venv/lib/python3.10/site-packages/langchain_core/_api/beta_decorator.py:87: LangChainBetaWarning: The function `loads` is in beta. It is actively being worked on, so the API may change.\n",
      "  warn_beta(\n",
      "/home/jabez/rizzbuzz with poetry/RAG-Optimization-System/.venv/lib/python3.10/site-packages/langchain_core/_api/deprecation.py:139: LangChainDeprecationWarning: The method `BaseRetriever.get_relevant_documents` was deprecated in langchain-core 0.1.46 and will be removed in 0.3.0. Use invoke instead.\n",
      "  warn_deprecated(\n",
      "Creating CSV from Arrow format: 100%|██████████| 1/1 [00:00<00:00, 101.22ba/s]\n"
     ]
    }
   ],
   "source": [
    "# Adding answer to test data for character based chuncking\n",
    "file_path = '/home/jabez/rizzbuzz with poetry/RAG-Optimization-System/test_data/multiquery_answer.csv'\n",
    "multiquery_answer = evaluation.adding_answer_to_testdata(syntetic_test_data,pipelines.multi_query_pipeline, vectorstore_character, retriver,file_path)"
   ]
  },
  {
   "cell_type": "code",
   "execution_count": 7,
   "metadata": {},
   "outputs": [
    {
     "name": "stderr",
     "output_type": "stream",
     "text": [
      "/home/jabez/rizzbuzz with poetry/RAG-Optimization-System/.venv/lib/python3.10/site-packages/langchain_core/_api/beta_decorator.py:87: LangChainBetaWarning: The function `loads` is in beta. It is actively being worked on, so the API may change.\n",
      "  warn_beta(\n",
      "/home/jabez/rizzbuzz with poetry/RAG-Optimization-System/.venv/lib/python3.10/site-packages/langchain_core/_api/deprecation.py:139: LangChainDeprecationWarning: The method `BaseRetriever.get_relevant_documents` was deprecated in langchain-core 0.1.46 and will be removed in 0.3.0. Use invoke instead.\n",
      "  warn_deprecated(\n",
      "Creating CSV from Arrow format: 100%|██████████| 1/1 [00:00<00:00, 88.00ba/s]\n"
     ]
    }
   ],
   "source": [
    "# Adding answer to test data for semantic based chuncking\n",
    "file_path = '/home/jabez/rizzbuzz with poetry/RAG-Optimization-System/test_data/multiquery_semantic_answer.csv'\n",
    "multiquery_semantic_answer = evaluation.adding_answer_to_testdata(syntetic_test_data,pipelines.multi_query_pipeline, vectorstore_semantic, retriver_semantic,file_path)"
   ]
  },
  {
   "cell_type": "code",
   "execution_count": 10,
   "metadata": {},
   "outputs": [
    {
     "name": "stderr",
     "output_type": "stream",
     "text": [
      "Evaluating: 100%|██████████| 40/40 [00:23<00:00,  1.69it/s]\n"
     ]
    }
   ],
   "source": [
    "# Evaluating character based chuncking\n",
    "multiquery_rag_evaluation_result = evaluation.ragas_evaluator(multiquery_answer)"
   ]
  },
  {
   "cell_type": "code",
   "execution_count": 8,
   "metadata": {},
   "outputs": [
    {
     "name": "stderr",
     "output_type": "stream",
     "text": [
      "Evaluating: 100%|██████████| 40/40 [00:27<00:00,  1.48it/s]\n"
     ]
    }
   ],
   "source": [
    "# Evaluating semantic based chuncking\n",
    "multiquery_rag_semantic_evaluation_result = evaluation.ragas_evaluator(multiquery_semantic_answer)"
   ]
  },
  {
   "cell_type": "code",
   "execution_count": 14,
   "metadata": {},
   "outputs": [
    {
     "name": "stdout",
     "output_type": "stream",
     "text": [
      "context_precision: 90.0%, faithfulness: 90.0%, answer_relevancy: 84.28%, context_recall: 91.33%\n"
     ]
    }
   ],
   "source": [
    "# Evaluation mean for chunking size 800\n",
    "result = evaluation.evaluation_mean(multiquery_rag_evaluation_result)"
   ]
  },
  {
   "cell_type": "code",
   "execution_count": 11,
   "metadata": {},
   "outputs": [
    {
     "name": "stdout",
     "output_type": "stream",
     "text": [
      "context_precision: 87.5%, faithfulness: 80.0%, answer_relevancy: 83.12%, context_recall: 84.17%\n"
     ]
    }
   ],
   "source": [
    "# Evaluation mean for chunking size 1000\n",
    "result = evaluation.evaluation_mean(multiquery_rag_evaluation_result)"
   ]
  },
  {
   "cell_type": "code",
   "execution_count": 9,
   "metadata": {},
   "outputs": [
    {
     "name": "stdout",
     "output_type": "stream",
     "text": [
      "context_precision: 87.77%, faithfulness: 81.33%, answer_relevancy: 83.56%, context_recall: 88.33%\n"
     ]
    }
   ],
   "source": [
    "# Evaluation mean for semantic chunking\n",
    "result = evaluation.evaluation_mean(multiquery_rag_semantic_evaluation_result)"
   ]
  },
  {
   "cell_type": "code",
   "execution_count": 25,
   "metadata": {},
   "outputs": [
    {
     "data": {
      "text/html": [
       "<div>\n",
       "<style scoped>\n",
       "    .dataframe tbody tr th:only-of-type {\n",
       "        vertical-align: middle;\n",
       "    }\n",
       "\n",
       "    .dataframe tbody tr th {\n",
       "        vertical-align: top;\n",
       "    }\n",
       "\n",
       "    .dataframe thead th {\n",
       "        text-align: right;\n",
       "    }\n",
       "</style>\n",
       "<table border=\"1\" class=\"dataframe\">\n",
       "  <thead>\n",
       "    <tr style=\"text-align: right;\">\n",
       "      <th></th>\n",
       "      <th>question</th>\n",
       "      <th>answer</th>\n",
       "      <th>contexts</th>\n",
       "      <th>ground_truth</th>\n",
       "      <th>context_precision</th>\n",
       "      <th>faithfulness</th>\n",
       "      <th>answer_relevancy</th>\n",
       "      <th>context_recall</th>\n",
       "    </tr>\n",
       "  </thead>\n",
       "  <tbody>\n",
       "    <tr>\n",
       "      <th>0</th>\n",
       "      <td>What was the connection between Ibragim Todash...</td>\n",
       "      <td>Ibragim Todashev was an associate of Tamerlan ...</td>\n",
       "      <td>[She acknowledged the theft and gave back the ...</td>\n",
       "      <td>Ibragim Todashev was an associate of Boston Ma...</td>\n",
       "      <td>1.000000</td>\n",
       "      <td>0.8</td>\n",
       "      <td>0.867289</td>\n",
       "      <td>1.0</td>\n",
       "    </tr>\n",
       "    <tr>\n",
       "      <th>1</th>\n",
       "      <td>What criminal violations is Abid Naseer charge...</td>\n",
       "      <td>Abid Naseer is charged with three criminal vio...</td>\n",
       "      <td>[article: New York (CNN)A federal jury Wednesd...</td>\n",
       "      <td>Abid Naseer is charged with three criminal vio...</td>\n",
       "      <td>1.000000</td>\n",
       "      <td>1.0</td>\n",
       "      <td>0.939040</td>\n",
       "      <td>1.0</td>\n",
       "    </tr>\n",
       "    <tr>\n",
       "      <th>2</th>\n",
       "      <td>What are some reasons why churches do not carb...</td>\n",
       "      <td>There are a few reasons why churches do not ca...</td>\n",
       "      <td>[fragments or splinters of the true cross. The...</td>\n",
       "      <td>Carbon dating is expensive and most churches d...</td>\n",
       "      <td>1.000000</td>\n",
       "      <td>1.0</td>\n",
       "      <td>0.000000</td>\n",
       "      <td>1.0</td>\n",
       "    </tr>\n",
       "    <tr>\n",
       "      <th>3</th>\n",
       "      <td>What is Parisa Tabriz's role as the \"Google Se...</td>\n",
       "      <td>Parisa Tabriz's role as the \"Google Security P...</td>\n",
       "      <td>[article: (CNN)In fairy tales, it's usually th...</td>\n",
       "      <td>Parisa Tabriz's role as the \"Google Security P...</td>\n",
       "      <td>1.000000</td>\n",
       "      <td>1.0</td>\n",
       "      <td>0.940155</td>\n",
       "      <td>1.0</td>\n",
       "    </tr>\n",
       "    <tr>\n",
       "      <th>4</th>\n",
       "      <td>How has Justice Ruth Bader Ginsburg's stance o...</td>\n",
       "      <td>Justice Ruth Bader Ginsburg's stance on women'...</td>\n",
       "      <td>[family issue, virtually by definition, and an...</td>\n",
       "      <td>Justice Ruth Bader Ginsburg's stance on women'...</td>\n",
       "      <td>0.416667</td>\n",
       "      <td>0.0</td>\n",
       "      <td>0.942190</td>\n",
       "      <td>0.0</td>\n",
       "    </tr>\n",
       "    <tr>\n",
       "      <th>5</th>\n",
       "      <td>What role do Shia militias play in the fight a...</td>\n",
       "      <td>Shia militias also play a significant role in ...</td>\n",
       "      <td>[and Iranian interests converge in more immedi...</td>\n",
       "      <td>Shia militias play a significant role in the f...</td>\n",
       "      <td>1.000000</td>\n",
       "      <td>1.0</td>\n",
       "      <td>0.892780</td>\n",
       "      <td>0.5</td>\n",
       "    </tr>\n",
       "    <tr>\n",
       "      <th>6</th>\n",
       "      <td>What factors caused the Buddy Holly plane cras...</td>\n",
       "      <td>The letter from the NTSB mentioned that the cr...</td>\n",
       "      <td>[highlights: Pilot error and snow were reasons...</td>\n",
       "      <td>Pilot error and inadequate weather briefing we...</td>\n",
       "      <td>1.000000</td>\n",
       "      <td>1.0</td>\n",
       "      <td>0.874950</td>\n",
       "      <td>1.0</td>\n",
       "    </tr>\n",
       "    <tr>\n",
       "      <th>7</th>\n",
       "      <td>What unique items in Granada's boutiques may b...</td>\n",
       "      <td>The text does not provide information on what ...</td>\n",
       "      <td>[boutiques are full of local art and street ca...</td>\n",
       "      <td>The answer to given question is not present in...</td>\n",
       "      <td>0.000000</td>\n",
       "      <td>0.0</td>\n",
       "      <td>0.000000</td>\n",
       "      <td>0.0</td>\n",
       "    </tr>\n",
       "    <tr>\n",
       "      <th>8</th>\n",
       "      <td>What evidence in the co-pilot's apartment sugg...</td>\n",
       "      <td>The documents do not provide specific evidence...</td>\n",
       "      <td>[article: (CNN)The tragic news that Germanwing...</td>\n",
       "      <td>Documents revealing he'd been declared unfit f...</td>\n",
       "      <td>1.000000</td>\n",
       "      <td>0.0</td>\n",
       "      <td>0.984567</td>\n",
       "      <td>1.0</td>\n",
       "    </tr>\n",
       "    <tr>\n",
       "      <th>9</th>\n",
       "      <td>How does the NBA collaborate with Sandberg's \"...</td>\n",
       "      <td>The NBA is collaborating with Sheryl Sandberg'...</td>\n",
       "      <td>[highlights: Sandberg's \"lean in\" movement is ...</td>\n",
       "      <td>The NBA collaborates with Sandberg's \"lean in\"...</td>\n",
       "      <td>1.000000</td>\n",
       "      <td>1.0</td>\n",
       "      <td>0.928345</td>\n",
       "      <td>1.0</td>\n",
       "    </tr>\n",
       "  </tbody>\n",
       "</table>\n",
       "</div>"
      ],
      "text/plain": [
       "                                            question  \\\n",
       "0  What was the connection between Ibragim Todash...   \n",
       "1  What criminal violations is Abid Naseer charge...   \n",
       "2  What are some reasons why churches do not carb...   \n",
       "3  What is Parisa Tabriz's role as the \"Google Se...   \n",
       "4  How has Justice Ruth Bader Ginsburg's stance o...   \n",
       "5  What role do Shia militias play in the fight a...   \n",
       "6  What factors caused the Buddy Holly plane cras...   \n",
       "7  What unique items in Granada's boutiques may b...   \n",
       "8  What evidence in the co-pilot's apartment sugg...   \n",
       "9  How does the NBA collaborate with Sandberg's \"...   \n",
       "\n",
       "                                              answer  \\\n",
       "0  Ibragim Todashev was an associate of Tamerlan ...   \n",
       "1  Abid Naseer is charged with three criminal vio...   \n",
       "2  There are a few reasons why churches do not ca...   \n",
       "3  Parisa Tabriz's role as the \"Google Security P...   \n",
       "4  Justice Ruth Bader Ginsburg's stance on women'...   \n",
       "5  Shia militias also play a significant role in ...   \n",
       "6  The letter from the NTSB mentioned that the cr...   \n",
       "7  The text does not provide information on what ...   \n",
       "8  The documents do not provide specific evidence...   \n",
       "9  The NBA is collaborating with Sheryl Sandberg'...   \n",
       "\n",
       "                                            contexts  \\\n",
       "0  [She acknowledged the theft and gave back the ...   \n",
       "1  [article: New York (CNN)A federal jury Wednesd...   \n",
       "2  [fragments or splinters of the true cross. The...   \n",
       "3  [article: (CNN)In fairy tales, it's usually th...   \n",
       "4  [family issue, virtually by definition, and an...   \n",
       "5  [and Iranian interests converge in more immedi...   \n",
       "6  [highlights: Pilot error and snow were reasons...   \n",
       "7  [boutiques are full of local art and street ca...   \n",
       "8  [article: (CNN)The tragic news that Germanwing...   \n",
       "9  [highlights: Sandberg's \"lean in\" movement is ...   \n",
       "\n",
       "                                        ground_truth  context_precision  \\\n",
       "0  Ibragim Todashev was an associate of Boston Ma...           1.000000   \n",
       "1  Abid Naseer is charged with three criminal vio...           1.000000   \n",
       "2  Carbon dating is expensive and most churches d...           1.000000   \n",
       "3  Parisa Tabriz's role as the \"Google Security P...           1.000000   \n",
       "4  Justice Ruth Bader Ginsburg's stance on women'...           0.416667   \n",
       "5  Shia militias play a significant role in the f...           1.000000   \n",
       "6  Pilot error and inadequate weather briefing we...           1.000000   \n",
       "7  The answer to given question is not present in...           0.000000   \n",
       "8  Documents revealing he'd been declared unfit f...           1.000000   \n",
       "9  The NBA collaborates with Sandberg's \"lean in\"...           1.000000   \n",
       "\n",
       "   faithfulness  answer_relevancy  context_recall  \n",
       "0           0.8          0.867289             1.0  \n",
       "1           1.0          0.939040             1.0  \n",
       "2           1.0          0.000000             1.0  \n",
       "3           1.0          0.940155             1.0  \n",
       "4           0.0          0.942190             0.0  \n",
       "5           1.0          0.892780             0.5  \n",
       "6           1.0          0.874950             1.0  \n",
       "7           0.0          0.000000             0.0  \n",
       "8           0.0          0.984567             1.0  \n",
       "9           1.0          0.928345             1.0  "
      ]
     },
     "execution_count": 25,
     "metadata": {},
     "output_type": "execute_result"
    }
   ],
   "source": [
    "multiquery_rag_evaluation_result"
   ]
  },
  {
   "cell_type": "code",
   "execution_count": 10,
   "metadata": {},
   "outputs": [
    {
     "data": {
      "text/html": [
       "<div>\n",
       "<style scoped>\n",
       "    .dataframe tbody tr th:only-of-type {\n",
       "        vertical-align: middle;\n",
       "    }\n",
       "\n",
       "    .dataframe tbody tr th {\n",
       "        vertical-align: top;\n",
       "    }\n",
       "\n",
       "    .dataframe thead th {\n",
       "        text-align: right;\n",
       "    }\n",
       "</style>\n",
       "<table border=\"1\" class=\"dataframe\">\n",
       "  <thead>\n",
       "    <tr style=\"text-align: right;\">\n",
       "      <th></th>\n",
       "      <th>question</th>\n",
       "      <th>answer</th>\n",
       "      <th>contexts</th>\n",
       "      <th>ground_truth</th>\n",
       "      <th>context_precision</th>\n",
       "      <th>faithfulness</th>\n",
       "      <th>answer_relevancy</th>\n",
       "      <th>context_recall</th>\n",
       "    </tr>\n",
       "  </thead>\n",
       "  <tbody>\n",
       "    <tr>\n",
       "      <th>0</th>\n",
       "      <td>What was the connection between Ibragim Todash...</td>\n",
       "      <td>Ibragim Todashev was an associate of Tamerlan ...</td>\n",
       "      <td>[She acknowledged the theft and gave back the ...</td>\n",
       "      <td>Ibragim Todashev was an associate of Boston Ma...</td>\n",
       "      <td>1.000000</td>\n",
       "      <td>1.000000</td>\n",
       "      <td>0.886229</td>\n",
       "      <td>1.000000</td>\n",
       "    </tr>\n",
       "    <tr>\n",
       "      <th>1</th>\n",
       "      <td>What criminal violations is Abid Naseer charge...</td>\n",
       "      <td>Abid Naseer is charged with three criminal vio...</td>\n",
       "      <td>[Mangled bodies and dead families,\" said Assis...</td>\n",
       "      <td>Abid Naseer is charged with three criminal vio...</td>\n",
       "      <td>0.950000</td>\n",
       "      <td>1.000000</td>\n",
       "      <td>0.972751</td>\n",
       "      <td>1.000000</td>\n",
       "    </tr>\n",
       "    <tr>\n",
       "      <th>2</th>\n",
       "      <td>What are some reasons why churches do not carb...</td>\n",
       "      <td>There are a few reasons why churches do not ca...</td>\n",
       "      <td>[They have been edited for style and clarity f...</td>\n",
       "      <td>Carbon dating is expensive and most churches d...</td>\n",
       "      <td>1.000000</td>\n",
       "      <td>1.000000</td>\n",
       "      <td>0.986090</td>\n",
       "      <td>1.000000</td>\n",
       "    </tr>\n",
       "    <tr>\n",
       "      <th>3</th>\n",
       "      <td>What is Parisa Tabriz's role as the \"Google Se...</td>\n",
       "      <td>Parisa Tabriz's role as the \"Google Security P...</td>\n",
       "      <td>[article: (CNN)In fairy tales, it's usually th...</td>\n",
       "      <td>Parisa Tabriz's role as the \"Google Security P...</td>\n",
       "      <td>1.000000</td>\n",
       "      <td>1.000000</td>\n",
       "      <td>0.959763</td>\n",
       "      <td>1.000000</td>\n",
       "    </tr>\n",
       "    <tr>\n",
       "      <th>4</th>\n",
       "      <td>How has Justice Ruth Bader Ginsburg's stance o...</td>\n",
       "      <td>Justice Ruth Bader Ginsburg's stances on issue...</td>\n",
       "      <td>[article: (CNN)It's no secret that Supreme Cou...</td>\n",
       "      <td>Justice Ruth Bader Ginsburg's stance on women'...</td>\n",
       "      <td>0.876667</td>\n",
       "      <td>0.800000</td>\n",
       "      <td>0.899134</td>\n",
       "      <td>1.000000</td>\n",
       "    </tr>\n",
       "    <tr>\n",
       "      <th>5</th>\n",
       "      <td>What role do Shia militias play in the fight a...</td>\n",
       "      <td>Shia militias, some backed by Iran, play a cru...</td>\n",
       "      <td>[and Iranian interests converge in more immedi...</td>\n",
       "      <td>Shia militias play a significant role in the f...</td>\n",
       "      <td>1.000000</td>\n",
       "      <td>1.000000</td>\n",
       "      <td>0.880661</td>\n",
       "      <td>0.833333</td>\n",
       "    </tr>\n",
       "    <tr>\n",
       "      <th>6</th>\n",
       "      <td>What factors caused the Buddy Holly plane cras...</td>\n",
       "      <td>The Buddy Holly plane crash was initially attr...</td>\n",
       "      <td>[article: (CNN)It's the day the music died. In...</td>\n",
       "      <td>Pilot error and inadequate weather briefing we...</td>\n",
       "      <td>0.950000</td>\n",
       "      <td>1.000000</td>\n",
       "      <td>0.942145</td>\n",
       "      <td>1.000000</td>\n",
       "    </tr>\n",
       "    <tr>\n",
       "      <th>7</th>\n",
       "      <td>What unique items in Granada's boutiques may b...</td>\n",
       "      <td>The document does not provide specific informa...</td>\n",
       "      <td>[article: (CNN)The sun cuts across Lake Nicara...</td>\n",
       "      <td>The answer to given question is not present in...</td>\n",
       "      <td>0.000000</td>\n",
       "      <td>0.000000</td>\n",
       "      <td>0.000000</td>\n",
       "      <td>0.000000</td>\n",
       "    </tr>\n",
       "    <tr>\n",
       "      <th>8</th>\n",
       "      <td>What evidence in the co-pilot's apartment sugg...</td>\n",
       "      <td>The documents found in co-pilot Andreas Lubitz...</td>\n",
       "      <td>[article: (CNN)The tragic news that Germanwing...</td>\n",
       "      <td>Documents revealing he'd been declared unfit f...</td>\n",
       "      <td>1.000000</td>\n",
       "      <td>0.333333</td>\n",
       "      <td>0.907244</td>\n",
       "      <td>1.000000</td>\n",
       "    </tr>\n",
       "    <tr>\n",
       "      <th>9</th>\n",
       "      <td>How does the NBA collaborate with Sandberg's \"...</td>\n",
       "      <td>The NBA collaborates with Sandberg's \"lean in\"...</td>\n",
       "      <td>[article: (CNN)In the two years since \"Lean In...</td>\n",
       "      <td>The NBA collaborates with Sandberg's \"lean in\"...</td>\n",
       "      <td>1.000000</td>\n",
       "      <td>1.000000</td>\n",
       "      <td>0.922445</td>\n",
       "      <td>1.000000</td>\n",
       "    </tr>\n",
       "  </tbody>\n",
       "</table>\n",
       "</div>"
      ],
      "text/plain": [
       "                                            question  \\\n",
       "0  What was the connection between Ibragim Todash...   \n",
       "1  What criminal violations is Abid Naseer charge...   \n",
       "2  What are some reasons why churches do not carb...   \n",
       "3  What is Parisa Tabriz's role as the \"Google Se...   \n",
       "4  How has Justice Ruth Bader Ginsburg's stance o...   \n",
       "5  What role do Shia militias play in the fight a...   \n",
       "6  What factors caused the Buddy Holly plane cras...   \n",
       "7  What unique items in Granada's boutiques may b...   \n",
       "8  What evidence in the co-pilot's apartment sugg...   \n",
       "9  How does the NBA collaborate with Sandberg's \"...   \n",
       "\n",
       "                                              answer  \\\n",
       "0  Ibragim Todashev was an associate of Tamerlan ...   \n",
       "1  Abid Naseer is charged with three criminal vio...   \n",
       "2  There are a few reasons why churches do not ca...   \n",
       "3  Parisa Tabriz's role as the \"Google Security P...   \n",
       "4  Justice Ruth Bader Ginsburg's stances on issue...   \n",
       "5  Shia militias, some backed by Iran, play a cru...   \n",
       "6  The Buddy Holly plane crash was initially attr...   \n",
       "7  The document does not provide specific informa...   \n",
       "8  The documents found in co-pilot Andreas Lubitz...   \n",
       "9  The NBA collaborates with Sandberg's \"lean in\"...   \n",
       "\n",
       "                                            contexts  \\\n",
       "0  [She acknowledged the theft and gave back the ...   \n",
       "1  [Mangled bodies and dead families,\" said Assis...   \n",
       "2  [They have been edited for style and clarity f...   \n",
       "3  [article: (CNN)In fairy tales, it's usually th...   \n",
       "4  [article: (CNN)It's no secret that Supreme Cou...   \n",
       "5  [and Iranian interests converge in more immedi...   \n",
       "6  [article: (CNN)It's the day the music died. In...   \n",
       "7  [article: (CNN)The sun cuts across Lake Nicara...   \n",
       "8  [article: (CNN)The tragic news that Germanwing...   \n",
       "9  [article: (CNN)In the two years since \"Lean In...   \n",
       "\n",
       "                                        ground_truth  context_precision  \\\n",
       "0  Ibragim Todashev was an associate of Boston Ma...           1.000000   \n",
       "1  Abid Naseer is charged with three criminal vio...           0.950000   \n",
       "2  Carbon dating is expensive and most churches d...           1.000000   \n",
       "3  Parisa Tabriz's role as the \"Google Security P...           1.000000   \n",
       "4  Justice Ruth Bader Ginsburg's stance on women'...           0.876667   \n",
       "5  Shia militias play a significant role in the f...           1.000000   \n",
       "6  Pilot error and inadequate weather briefing we...           0.950000   \n",
       "7  The answer to given question is not present in...           0.000000   \n",
       "8  Documents revealing he'd been declared unfit f...           1.000000   \n",
       "9  The NBA collaborates with Sandberg's \"lean in\"...           1.000000   \n",
       "\n",
       "   faithfulness  answer_relevancy  context_recall  \n",
       "0      1.000000          0.886229        1.000000  \n",
       "1      1.000000          0.972751        1.000000  \n",
       "2      1.000000          0.986090        1.000000  \n",
       "3      1.000000          0.959763        1.000000  \n",
       "4      0.800000          0.899134        1.000000  \n",
       "5      1.000000          0.880661        0.833333  \n",
       "6      1.000000          0.942145        1.000000  \n",
       "7      0.000000          0.000000        0.000000  \n",
       "8      0.333333          0.907244        1.000000  \n",
       "9      1.000000          0.922445        1.000000  "
      ]
     },
     "execution_count": 10,
     "metadata": {},
     "output_type": "execute_result"
    }
   ],
   "source": [
    "multiquery_rag_semantic_evaluation_result"
   ]
  }
 ],
 "metadata": {
  "kernelspec": {
   "display_name": ".venv",
   "language": "python",
   "name": "python3"
  },
  "language_info": {
   "codemirror_mode": {
    "name": "ipython",
    "version": 3
   },
   "file_extension": ".py",
   "mimetype": "text/x-python",
   "name": "python",
   "nbconvert_exporter": "python",
   "pygments_lexer": "ipython3",
   "version": "3.10.12"
  }
 },
 "nbformat": 4,
 "nbformat_minor": 2
}
