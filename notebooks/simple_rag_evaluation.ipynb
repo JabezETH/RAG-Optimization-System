{
 "cells": [
  {
   "cell_type": "markdown",
   "metadata": {},
   "source": [
    "## Simple Rag Pipeline Evaluation\n",
    "In this notebook we will create a simple rag pipeline with basic strategies to determine the baseline result.\n",
    "These are the strategies we are following in this simple rag pipeline\n",
    "- Recursive Character Splitter with 1000 chunk size and chunk overlap of 250\n",
    "- OpenAI default embedding model: text-embedding-ada-002\n",
    "- Vector store as the retriever \n",
    "- Generator Model: gpt4o\n",
    "\n",
    "We are using RAGS for evaluation. The choosen RAGAS metrics are:\n",
    "- Faithfulness\n",
    "- Context Recall\n",
    "- Answer Relevancy\n",
    "- Context Precision"
   ]
  },
  {
   "cell_type": "code",
   "execution_count": 1,
   "metadata": {},
   "outputs": [
    {
     "name": "stderr",
     "output_type": "stream",
     "text": [
      "/home/jabez/rizzbuzz with poetry/RAG-Optimization-System/.venv/lib/python3.10/site-packages/tqdm/auto.py:21: TqdmWarning: IProgress not found. Please update jupyter and ipywidgets. See https://ipywidgets.readthedocs.io/en/stable/user_install.html\n",
      "  from .autonotebook import tqdm as notebook_tqdm\n"
     ]
    }
   ],
   "source": [
    "# Importing libraries\n",
    "import sys\n",
    "from dotenv import load_dotenv\n",
    "import pandas as pd\n",
    "sys.path.insert(1, '/home/jabez/week_11/Contract-Advisor-RAG')\n",
    "load_dotenv()\n",
    "sys.path.insert(1, '/home/jabez/rizzbuzz with poetry/RAG-Optimization-System/scripts')\n",
    "import file_loader \n",
    "import pipelines \n",
    "import evaluation"
   ]
  },
  {
   "cell_type": "code",
   "execution_count": 2,
   "metadata": {},
   "outputs": [],
   "source": [
    "# loading data\n",
    "file_path = '/home/jabez/rizzbuzz with poetry/RAG-Optimization-System/data/cnn_dailymail_3.0.0.csv'\n",
    "data = file_loader.load_csv(file_path)"
   ]
  },
  {
   "cell_type": "code",
   "execution_count": 3,
   "metadata": {},
   "outputs": [],
   "source": [
    "# RecursiveCharacterTextSplitter\n",
    "chunk_size= 1000\n",
    "chunk_overlap= 250\n",
    "vectorstore_character = file_loader.character_text_splitter(data, chunk_size, chunk_overlap)"
   ]
  },
  {
   "cell_type": "code",
   "execution_count": 4,
   "metadata": {},
   "outputs": [
    {
     "name": "stderr",
     "output_type": "stream",
     "text": [
      "Filename and doc_id are the same for all nodes.                     \n",
      "Generating: 100%|██████████| 10/10 [00:46<00:00,  4.61s/it]\n"
     ]
    }
   ],
   "source": [
    "# Generate syntetic test data\n",
    "file_path = '/home/jabez/rizzbuzz with poetry/RAG-Optimization-System/test_data/syntetic_test_data.csv'\n",
    "syntetic_test_data =evaluation.generate_syntetic_testdata(data, file_path)"
   ]
  },
  {
   "cell_type": "code",
   "execution_count": 4,
   "metadata": {},
   "outputs": [],
   "source": [
    "# Loading syntetic test data\n",
    "syntetic_test_data = pd.read_csv('/home/jabez/rizzbuzz with poetry/RAG-Optimization-System/test_data/syntetic_test_data.csv')"
   ]
  },
  {
   "cell_type": "code",
   "execution_count": 5,
   "metadata": {},
   "outputs": [],
   "source": [
    "# Setting retriever\n",
    "retriver = vectorstore_character.as_retriever(search_type=\"similarity\", search_kwargs={\"k\": 6})"
   ]
  },
  {
   "cell_type": "code",
   "execution_count": 6,
   "metadata": {},
   "outputs": [
    {
     "name": "stderr",
     "output_type": "stream",
     "text": [
      "/home/jabez/rizzbuzz with poetry/RAG-Optimization-System/.venv/lib/python3.10/site-packages/langchain_core/_api/deprecation.py:139: LangChainDeprecationWarning: The method `BaseRetriever.get_relevant_documents` was deprecated in langchain-core 0.1.46 and will be removed in 0.3.0. Use invoke instead.\n",
      "  warn_deprecated(\n",
      "Creating CSV from Arrow format: 100%|██████████| 1/1 [00:00<00:00, 57.48ba/s]\n"
     ]
    }
   ],
   "source": [
    "# Adding answer to test data from simple pipeline\n",
    "file_path_with_answer = '/home/jabez/rizzbuzz with poetry/RAG-Optimization-System/test_data/syntetic_test_data_with_answer.csv'\n",
    "syntetic_test_data_with_answer = evaluation.adding_answer_to_testdata(syntetic_test_data, pipelines.simple_pipeline, vectorstore_character, retriver, file_path_with_answer)"
   ]
  },
  {
   "cell_type": "code",
   "execution_count": 7,
   "metadata": {},
   "outputs": [
    {
     "name": "stderr",
     "output_type": "stream",
     "text": [
      "Evaluating: 100%|██████████| 40/40 [00:29<00:00,  1.37it/s]\n"
     ]
    }
   ],
   "source": [
    "# Evaluating the test data from simple pipeline\n",
    "simple_rag_evaluation_result = evaluation.ragas_evaluator(syntetic_test_data_with_answer)"
   ]
  },
  {
   "cell_type": "code",
   "execution_count": 8,
   "metadata": {},
   "outputs": [
    {
     "name": "stdout",
     "output_type": "stream",
     "text": [
      "context_precision: 86.83%, faithfulness: 86.75%, answer_relevancy: 85.52%, context_recall: 88.0%\n"
     ]
    }
   ],
   "source": [
    "# Evaluation mean\n",
    "result = evaluation.evaluation_mean(simple_rag_evaluation_result)"
   ]
  },
  {
   "cell_type": "code",
   "execution_count": 9,
   "metadata": {},
   "outputs": [
    {
     "data": {
      "text/html": [
       "<div>\n",
       "<style scoped>\n",
       "    .dataframe tbody tr th:only-of-type {\n",
       "        vertical-align: middle;\n",
       "    }\n",
       "\n",
       "    .dataframe tbody tr th {\n",
       "        vertical-align: top;\n",
       "    }\n",
       "\n",
       "    .dataframe thead th {\n",
       "        text-align: right;\n",
       "    }\n",
       "</style>\n",
       "<table border=\"1\" class=\"dataframe\">\n",
       "  <thead>\n",
       "    <tr style=\"text-align: right;\">\n",
       "      <th></th>\n",
       "      <th>question</th>\n",
       "      <th>answer</th>\n",
       "      <th>contexts</th>\n",
       "      <th>ground_truth</th>\n",
       "      <th>context_precision</th>\n",
       "      <th>faithfulness</th>\n",
       "      <th>answer_relevancy</th>\n",
       "      <th>context_recall</th>\n",
       "    </tr>\n",
       "  </thead>\n",
       "  <tbody>\n",
       "    <tr>\n",
       "      <th>0</th>\n",
       "      <td>What was the connection between Ibragim Todash...</td>\n",
       "      <td>Ibragim Todashev was an associate of Tamerlan ...</td>\n",
       "      <td>[highlights: Ibragim Todashev was killed durin...</td>\n",
       "      <td>Ibragim Todashev was an associate of Boston Ma...</td>\n",
       "      <td>1.000000</td>\n",
       "      <td>1.000</td>\n",
       "      <td>0.889481</td>\n",
       "      <td>1.0</td>\n",
       "    </tr>\n",
       "    <tr>\n",
       "      <th>1</th>\n",
       "      <td>What criminal violations is Abid Naseer charge...</td>\n",
       "      <td>Abid Naseer is charged with three criminal vio...</td>\n",
       "      <td>[article: New York (CNN)A federal jury Wednesd...</td>\n",
       "      <td>Abid Naseer is charged with three criminal vio...</td>\n",
       "      <td>1.000000</td>\n",
       "      <td>1.000</td>\n",
       "      <td>0.972751</td>\n",
       "      <td>1.0</td>\n",
       "    </tr>\n",
       "    <tr>\n",
       "      <th>2</th>\n",
       "      <td>What are some reasons why churches do not carb...</td>\n",
       "      <td>Churches do not carbon date relics claimed to ...</td>\n",
       "      <td>[fragments or splinters of the true cross. The...</td>\n",
       "      <td>Carbon dating is expensive and most churches d...</td>\n",
       "      <td>0.966667</td>\n",
       "      <td>1.000</td>\n",
       "      <td>0.000000</td>\n",
       "      <td>1.0</td>\n",
       "    </tr>\n",
       "    <tr>\n",
       "      <th>3</th>\n",
       "      <td>What is Parisa Tabriz's role as the \"Google Se...</td>\n",
       "      <td>Parisa Tabriz's role as the \"Google Security P...</td>\n",
       "      <td>[article: (CNN)In fairy tales, it's usually th...</td>\n",
       "      <td>Parisa Tabriz's role as the \"Google Security P...</td>\n",
       "      <td>1.000000</td>\n",
       "      <td>1.000</td>\n",
       "      <td>0.940155</td>\n",
       "      <td>1.0</td>\n",
       "    </tr>\n",
       "    <tr>\n",
       "      <th>4</th>\n",
       "      <td>How has Justice Ruth Bader Ginsburg's stance o...</td>\n",
       "      <td>Justice Ruth Bader Ginsburg's stance on women'...</td>\n",
       "      <td>[article: (CNN)It's no secret that Supreme Cou...</td>\n",
       "      <td>Justice Ruth Bader Ginsburg's stance on women'...</td>\n",
       "      <td>0.750000</td>\n",
       "      <td>1.000</td>\n",
       "      <td>0.962445</td>\n",
       "      <td>1.0</td>\n",
       "    </tr>\n",
       "    <tr>\n",
       "      <th>5</th>\n",
       "      <td>What role do Shia militias play in the fight a...</td>\n",
       "      <td>Shia militias play a significant role in the f...</td>\n",
       "      <td>[world. Were the nuclear talks to leave Iran a...</td>\n",
       "      <td>Shia militias play a significant role in the f...</td>\n",
       "      <td>1.000000</td>\n",
       "      <td>1.000</td>\n",
       "      <td>0.944196</td>\n",
       "      <td>0.8</td>\n",
       "    </tr>\n",
       "    <tr>\n",
       "      <th>6</th>\n",
       "      <td>What factors caused the Buddy Holly plane cras...</td>\n",
       "      <td>According to the NTSB letter, the factors that...</td>\n",
       "      <td>[highlights: Pilot error and snow were reasons...</td>\n",
       "      <td>Pilot error and inadequate weather briefing we...</td>\n",
       "      <td>1.000000</td>\n",
       "      <td>1.000</td>\n",
       "      <td>0.996974</td>\n",
       "      <td>1.0</td>\n",
       "    </tr>\n",
       "    <tr>\n",
       "      <th>7</th>\n",
       "      <td>What unique items in Granada's boutiques may b...</td>\n",
       "      <td>The unique items in Granada's boutiques that m...</td>\n",
       "      <td>[boutiques are full of local art and street ca...</td>\n",
       "      <td>The answer to given question is not present in...</td>\n",
       "      <td>0.000000</td>\n",
       "      <td>0.000</td>\n",
       "      <td>0.950042</td>\n",
       "      <td>0.0</td>\n",
       "    </tr>\n",
       "    <tr>\n",
       "      <th>8</th>\n",
       "      <td>What evidence in the co-pilot's apartment sugg...</td>\n",
       "      <td>Evidence found in the co-pilot Andreas Lubitz'...</td>\n",
       "      <td>[no evidence suggesting Lubitz was suicidal or...</td>\n",
       "      <td>Documents revealing he'd been declared unfit f...</td>\n",
       "      <td>0.966667</td>\n",
       "      <td>0.800</td>\n",
       "      <td>0.964843</td>\n",
       "      <td>1.0</td>\n",
       "    </tr>\n",
       "    <tr>\n",
       "      <th>9</th>\n",
       "      <td>How does the NBA collaborate with Sandberg's \"...</td>\n",
       "      <td>The NBA collaborates with Sheryl Sandberg's \"l...</td>\n",
       "      <td>[highlights: Sandberg's \"lean in\" movement is ...</td>\n",
       "      <td>The NBA collaborates with Sandberg's \"lean in\"...</td>\n",
       "      <td>1.000000</td>\n",
       "      <td>0.875</td>\n",
       "      <td>0.930940</td>\n",
       "      <td>1.0</td>\n",
       "    </tr>\n",
       "  </tbody>\n",
       "</table>\n",
       "</div>"
      ],
      "text/plain": [
       "                                            question  \\\n",
       "0  What was the connection between Ibragim Todash...   \n",
       "1  What criminal violations is Abid Naseer charge...   \n",
       "2  What are some reasons why churches do not carb...   \n",
       "3  What is Parisa Tabriz's role as the \"Google Se...   \n",
       "4  How has Justice Ruth Bader Ginsburg's stance o...   \n",
       "5  What role do Shia militias play in the fight a...   \n",
       "6  What factors caused the Buddy Holly plane cras...   \n",
       "7  What unique items in Granada's boutiques may b...   \n",
       "8  What evidence in the co-pilot's apartment sugg...   \n",
       "9  How does the NBA collaborate with Sandberg's \"...   \n",
       "\n",
       "                                              answer  \\\n",
       "0  Ibragim Todashev was an associate of Tamerlan ...   \n",
       "1  Abid Naseer is charged with three criminal vio...   \n",
       "2  Churches do not carbon date relics claimed to ...   \n",
       "3  Parisa Tabriz's role as the \"Google Security P...   \n",
       "4  Justice Ruth Bader Ginsburg's stance on women'...   \n",
       "5  Shia militias play a significant role in the f...   \n",
       "6  According to the NTSB letter, the factors that...   \n",
       "7  The unique items in Granada's boutiques that m...   \n",
       "8  Evidence found in the co-pilot Andreas Lubitz'...   \n",
       "9  The NBA collaborates with Sheryl Sandberg's \"l...   \n",
       "\n",
       "                                            contexts  \\\n",
       "0  [highlights: Ibragim Todashev was killed durin...   \n",
       "1  [article: New York (CNN)A federal jury Wednesd...   \n",
       "2  [fragments or splinters of the true cross. The...   \n",
       "3  [article: (CNN)In fairy tales, it's usually th...   \n",
       "4  [article: (CNN)It's no secret that Supreme Cou...   \n",
       "5  [world. Were the nuclear talks to leave Iran a...   \n",
       "6  [highlights: Pilot error and snow were reasons...   \n",
       "7  [boutiques are full of local art and street ca...   \n",
       "8  [no evidence suggesting Lubitz was suicidal or...   \n",
       "9  [highlights: Sandberg's \"lean in\" movement is ...   \n",
       "\n",
       "                                        ground_truth  context_precision  \\\n",
       "0  Ibragim Todashev was an associate of Boston Ma...           1.000000   \n",
       "1  Abid Naseer is charged with three criminal vio...           1.000000   \n",
       "2  Carbon dating is expensive and most churches d...           0.966667   \n",
       "3  Parisa Tabriz's role as the \"Google Security P...           1.000000   \n",
       "4  Justice Ruth Bader Ginsburg's stance on women'...           0.750000   \n",
       "5  Shia militias play a significant role in the f...           1.000000   \n",
       "6  Pilot error and inadequate weather briefing we...           1.000000   \n",
       "7  The answer to given question is not present in...           0.000000   \n",
       "8  Documents revealing he'd been declared unfit f...           0.966667   \n",
       "9  The NBA collaborates with Sandberg's \"lean in\"...           1.000000   \n",
       "\n",
       "   faithfulness  answer_relevancy  context_recall  \n",
       "0         1.000          0.889481             1.0  \n",
       "1         1.000          0.972751             1.0  \n",
       "2         1.000          0.000000             1.0  \n",
       "3         1.000          0.940155             1.0  \n",
       "4         1.000          0.962445             1.0  \n",
       "5         1.000          0.944196             0.8  \n",
       "6         1.000          0.996974             1.0  \n",
       "7         0.000          0.950042             0.0  \n",
       "8         0.800          0.964843             1.0  \n",
       "9         0.875          0.930940             1.0  "
      ]
     },
     "execution_count": 9,
     "metadata": {},
     "output_type": "execute_result"
    }
   ],
   "source": [
    "simple_rag_evaluation_result"
   ]
  },
  {
   "cell_type": "code",
   "execution_count": null,
   "metadata": {},
   "outputs": [],
   "source": [
    "simple_rag_evaluation_result.to_csv('/home/jabez/rizzbuzz with poetry/RAG-Optimization-System/test_data/simple_rag_evaluation_result.csv', index=False)"
   ]
  }
 ],
 "metadata": {
  "kernelspec": {
   "display_name": ".venv",
   "language": "python",
   "name": "python3"
  },
  "language_info": {
   "codemirror_mode": {
    "name": "ipython",
    "version": 3
   },
   "file_extension": ".py",
   "mimetype": "text/x-python",
   "name": "python",
   "nbconvert_exporter": "python",
   "pygments_lexer": "ipython3",
   "version": "3.10.12"
  }
 },
 "nbformat": 4,
 "nbformat_minor": 2
}
