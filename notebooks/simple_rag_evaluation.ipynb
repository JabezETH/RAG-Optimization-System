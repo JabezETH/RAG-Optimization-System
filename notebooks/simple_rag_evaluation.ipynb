{
 "cells": [
  {
   "cell_type": "code",
   "execution_count": 1,
   "metadata": {},
   "outputs": [
    {
     "name": "stderr",
     "output_type": "stream",
     "text": [
      "/home/jabez/rizzbuzz with poetry/RAG-Optimization-System/.venv/lib/python3.10/site-packages/tqdm/auto.py:21: TqdmWarning: IProgress not found. Please update jupyter and ipywidgets. See https://ipywidgets.readthedocs.io/en/stable/user_install.html\n",
      "  from .autonotebook import tqdm as notebook_tqdm\n"
     ]
    }
   ],
   "source": [
    "import sys\n",
    "from dotenv import load_dotenv\n",
    "import pandas as pd\n",
    "sys.path.insert(1, '/home/jabez/week_11/Contract-Advisor-RAG')\n",
    "load_dotenv()\n",
    "sys.path.insert(1, '/home/jabez/rizzbuzz with poetry/RAG-Optimization-System/scripts')\n",
    "import file_loader \n",
    "import pipelines \n",
    "import evaluation"
   ]
  },
  {
   "cell_type": "code",
   "execution_count": 3,
   "metadata": {},
   "outputs": [],
   "source": [
    "# loading data\n",
    "file_path = '/home/jabez/rizzbuzz with poetry/RAG-Optimization-System/data/cnn_dailymail_3.0.0.csv'\n",
    "data = file_loader.load_csv(file_path)"
   ]
  },
  {
   "cell_type": "code",
   "execution_count": 4,
   "metadata": {},
   "outputs": [],
   "source": [
    "# RecursiveCharacterTextSplitter\n",
    "vectorstore_character = file_loader.character_text_splitter(data)"
   ]
  },
  {
   "cell_type": "code",
   "execution_count": 8,
   "metadata": {},
   "outputs": [
    {
     "name": "stderr",
     "output_type": "stream",
     "text": [
      "Filename and doc_id are the same for all nodes.                     \n",
      "Generating: 100%|██████████| 10/10 [00:42<00:00,  4.22s/it]\n"
     ]
    }
   ],
   "source": [
    "# Generate syntetic test data\n",
    "file_path = '/home/jabez/rizzbuzz with poetry/RAG-Optimization-System/test_data/syntetic_test_data.csv'\n",
    "syntetic_test_data =evaluation.generate_syntetic_testdata(data, file_path)"
   ]
  },
  {
   "cell_type": "code",
   "execution_count": 22,
   "metadata": {},
   "outputs": [],
   "source": [
    "syntetic_test_data = pd.read_csv('/home/jabez/rizzbuzz with poetry/RAG-Optimization-System/test_data/syntetic_test_data.csv')"
   ]
  },
  {
   "cell_type": "code",
   "execution_count": 9,
   "metadata": {},
   "outputs": [],
   "source": [
    "# Setting retriever\n",
    "retriver = vectorstore_character.as_retriever(search_type=\"similarity\", search_kwargs={\"k\": 6})\n"
   ]
  },
  {
   "cell_type": "code",
   "execution_count": 10,
   "metadata": {},
   "outputs": [
    {
     "name": "stderr",
     "output_type": "stream",
     "text": [
      "/home/jabez/rizzbuzz with poetry/RAG-Optimization-System/.venv/lib/python3.10/site-packages/langchain_core/_api/deprecation.py:139: LangChainDeprecationWarning: The method `BaseRetriever.get_relevant_documents` was deprecated in langchain-core 0.1.46 and will be removed in 0.3.0. Use invoke instead.\n",
      "  warn_deprecated(\n",
      "Creating CSV from Arrow format: 100%|██████████| 1/1 [00:00<00:00, 84.74ba/s]\n"
     ]
    }
   ],
   "source": [
    "# Adding answer to test data from simple pipeline\n",
    "file_path_with_answer = '/home/jabez/rizzbuzz with poetry/RAG-Optimization-System/test_data/syntetic_test_data_with_answer.csv'\n",
    "syntetic_test_data_with_answer = evaluation.adding_answer_to_testdata(syntetic_test_data, pipelines.simple_pipeline, vectorstore_character, retriver, file_path_with_answer)"
   ]
  },
  {
   "cell_type": "code",
   "execution_count": 12,
   "metadata": {},
   "outputs": [
    {
     "name": "stderr",
     "output_type": "stream",
     "text": [
      "Evaluating: 100%|██████████| 40/40 [00:18<00:00,  2.21it/s]\n"
     ]
    }
   ],
   "source": [
    "# Evaluating the test data from simple pipeline\n",
    "simple_rag_evaluation_result = evaluation.ragas_evaluator(syntetic_test_data_with_answer)"
   ]
  },
  {
   "cell_type": "code",
   "execution_count": 13,
   "metadata": {},
   "outputs": [
    {
     "name": "stdout",
     "output_type": "stream",
     "text": [
      "context_precision: 86.5%, faithfulness: 83.98%, answer_relevancy: 86.76%, context_recall: 81.67%\n"
     ]
    }
   ],
   "source": [
    "# Evaluation mean\n",
    "def evaluation_mean(evaluation_result):\n",
    "    context_precision = round(evaluation_result['context_precision'].mean()*100,2)\n",
    "    faithfulness = round(evaluation_result['faithfulness'].mean()*100,2)\n",
    "    answer_relevancy = round(evaluation_result['answer_relevancy'].mean()*100,2)\n",
    "    context_recall = round(evaluation_result['context_recall'].mean()*100,2)\n",
    "    print(f'context_precision: {context_precision}%, faithfulness: {faithfulness}%, answer_relevancy: {answer_relevancy}%, context_recall: {context_recall}%')\n",
    "\n",
    "result = evaluation_mean(simple_rag_evaluation_result)"
   ]
  },
  {
   "cell_type": "code",
   "execution_count": 14,
   "metadata": {},
   "outputs": [
    {
     "data": {
      "text/html": [
       "<div>\n",
       "<style scoped>\n",
       "    .dataframe tbody tr th:only-of-type {\n",
       "        vertical-align: middle;\n",
       "    }\n",
       "\n",
       "    .dataframe tbody tr th {\n",
       "        vertical-align: top;\n",
       "    }\n",
       "\n",
       "    .dataframe thead th {\n",
       "        text-align: right;\n",
       "    }\n",
       "</style>\n",
       "<table border=\"1\" class=\"dataframe\">\n",
       "  <thead>\n",
       "    <tr style=\"text-align: right;\">\n",
       "      <th></th>\n",
       "      <th>question</th>\n",
       "      <th>answer</th>\n",
       "      <th>contexts</th>\n",
       "      <th>ground_truth</th>\n",
       "      <th>context_precision</th>\n",
       "      <th>faithfulness</th>\n",
       "      <th>answer_relevancy</th>\n",
       "      <th>context_recall</th>\n",
       "    </tr>\n",
       "  </thead>\n",
       "  <tbody>\n",
       "    <tr>\n",
       "      <th>0</th>\n",
       "      <td>What group claimed responsibility for the host...</td>\n",
       "      <td>The left-wing Revolutionary People's Liberatio...</td>\n",
       "      <td>[siege began. Istanbul Police Chief Selami Alt...</td>\n",
       "      <td>The left-wing Revolutionary People's Liberatio...</td>\n",
       "      <td>0.950000</td>\n",
       "      <td>1.000000</td>\n",
       "      <td>0.976869</td>\n",
       "      <td>1.000000</td>\n",
       "    </tr>\n",
       "    <tr>\n",
       "      <th>1</th>\n",
       "      <td>How does the perception of authenticity impact...</td>\n",
       "      <td>The perception of authenticity impacts the val...</td>\n",
       "      <td>[puzzling out how to insert themselves into a ...</td>\n",
       "      <td>The perception of authenticity can impact the ...</td>\n",
       "      <td>1.000000</td>\n",
       "      <td>1.000000</td>\n",
       "      <td>0.928415</td>\n",
       "      <td>0.666667</td>\n",
       "    </tr>\n",
       "    <tr>\n",
       "      <th>2</th>\n",
       "      <td>What was the cause of Conrad Roy's death?</td>\n",
       "      <td>Conrad Roy's cause of death was apparent carbo...</td>\n",
       "      <td>[highlights: Conrad Roy, 18, was found dead of...</td>\n",
       "      <td>Conrad Roy's cause of death was apparent carbo...</td>\n",
       "      <td>0.833333</td>\n",
       "      <td>1.000000</td>\n",
       "      <td>0.990655</td>\n",
       "      <td>1.000000</td>\n",
       "    </tr>\n",
       "    <tr>\n",
       "      <th>3</th>\n",
       "      <td>What are the pros and cons of the Julia Robert...</td>\n",
       "      <td>The pros and cons of the Julia Roberts-Richard...</td>\n",
       "      <td>[article: (CNN)For a generation of moviegoers ...</td>\n",
       "      <td>Roberts (as Vivian) is empowered and shows hum...</td>\n",
       "      <td>1.000000</td>\n",
       "      <td>0.842105</td>\n",
       "      <td>0.999146</td>\n",
       "      <td>1.000000</td>\n",
       "    </tr>\n",
       "    <tr>\n",
       "      <th>4</th>\n",
       "      <td>How does the use of the n-word impact the fina...</td>\n",
       "      <td>The information is not available in the provid...</td>\n",
       "      <td>[article: (CNN)Things got testy on \"CNN Tonigh...</td>\n",
       "      <td>The use of the n-word does not have a signific...</td>\n",
       "      <td>0.950000</td>\n",
       "      <td>0.000000</td>\n",
       "      <td>0.000000</td>\n",
       "      <td>0.666667</td>\n",
       "    </tr>\n",
       "    <tr>\n",
       "      <th>5</th>\n",
       "      <td>How has the email issue affected Hillary Clint...</td>\n",
       "      <td>The email issue has affected Hillary Clinton's...</td>\n",
       "      <td>[is actually running, with an infrastructure b...</td>\n",
       "      <td>The email issue has affected Hillary Clinton's...</td>\n",
       "      <td>1.000000</td>\n",
       "      <td>0.888889</td>\n",
       "      <td>0.945375</td>\n",
       "      <td>0.833333</td>\n",
       "    </tr>\n",
       "    <tr>\n",
       "      <th>6</th>\n",
       "      <td>Where will the first U.S. show of the Hit &amp; Ru...</td>\n",
       "      <td>The first U.S. show of the Hit &amp; Run Tour will...</td>\n",
       "      <td>[article: (CNN)Following last year's successfu...</td>\n",
       "      <td>Louisville, Kentucky</td>\n",
       "      <td>0.916667</td>\n",
       "      <td>1.000000</td>\n",
       "      <td>0.934299</td>\n",
       "      <td>1.000000</td>\n",
       "    </tr>\n",
       "    <tr>\n",
       "      <th>7</th>\n",
       "      <td>What is the starting bid for the Grantville bu...</td>\n",
       "      <td>The starting bid for the Grantville buildings ...</td>\n",
       "      <td>[article: (CNN)The faded downtown of a small t...</td>\n",
       "      <td>The starting bid for the Grantville buildings ...</td>\n",
       "      <td>1.000000</td>\n",
       "      <td>1.000000</td>\n",
       "      <td>0.963829</td>\n",
       "      <td>1.000000</td>\n",
       "    </tr>\n",
       "    <tr>\n",
       "      <th>8</th>\n",
       "      <td>What is Kick It Out's role in addressing racis...</td>\n",
       "      <td>Kick It Out (KIO) plays a significant role in ...</td>\n",
       "      <td>[article: (CNN)Could mobile technology turn th...</td>\n",
       "      <td>Kick It Out is an anti-racism organization tha...</td>\n",
       "      <td>1.000000</td>\n",
       "      <td>1.000000</td>\n",
       "      <td>0.937225</td>\n",
       "      <td>1.000000</td>\n",
       "    </tr>\n",
       "    <tr>\n",
       "      <th>9</th>\n",
       "      <td>What is the significance of the Jessup facilit...</td>\n",
       "      <td>The significance of the Jessup facility in rel...</td>\n",
       "      <td>[not constitute prosecutable violations\" of fe...</td>\n",
       "      <td>The answer to given question is not present in...</td>\n",
       "      <td>0.000000</td>\n",
       "      <td>0.666667</td>\n",
       "      <td>1.000000</td>\n",
       "      <td>0.000000</td>\n",
       "    </tr>\n",
       "  </tbody>\n",
       "</table>\n",
       "</div>"
      ],
      "text/plain": [
       "                                            question  \\\n",
       "0  What group claimed responsibility for the host...   \n",
       "1  How does the perception of authenticity impact...   \n",
       "2          What was the cause of Conrad Roy's death?   \n",
       "3  What are the pros and cons of the Julia Robert...   \n",
       "4  How does the use of the n-word impact the fina...   \n",
       "5  How has the email issue affected Hillary Clint...   \n",
       "6  Where will the first U.S. show of the Hit & Ru...   \n",
       "7  What is the starting bid for the Grantville bu...   \n",
       "8  What is Kick It Out's role in addressing racis...   \n",
       "9  What is the significance of the Jessup facilit...   \n",
       "\n",
       "                                              answer  \\\n",
       "0  The left-wing Revolutionary People's Liberatio...   \n",
       "1  The perception of authenticity impacts the val...   \n",
       "2  Conrad Roy's cause of death was apparent carbo...   \n",
       "3  The pros and cons of the Julia Roberts-Richard...   \n",
       "4  The information is not available in the provid...   \n",
       "5  The email issue has affected Hillary Clinton's...   \n",
       "6  The first U.S. show of the Hit & Run Tour will...   \n",
       "7  The starting bid for the Grantville buildings ...   \n",
       "8  Kick It Out (KIO) plays a significant role in ...   \n",
       "9  The significance of the Jessup facility in rel...   \n",
       "\n",
       "                                            contexts  \\\n",
       "0  [siege began. Istanbul Police Chief Selami Alt...   \n",
       "1  [puzzling out how to insert themselves into a ...   \n",
       "2  [highlights: Conrad Roy, 18, was found dead of...   \n",
       "3  [article: (CNN)For a generation of moviegoers ...   \n",
       "4  [article: (CNN)Things got testy on \"CNN Tonigh...   \n",
       "5  [is actually running, with an infrastructure b...   \n",
       "6  [article: (CNN)Following last year's successfu...   \n",
       "7  [article: (CNN)The faded downtown of a small t...   \n",
       "8  [article: (CNN)Could mobile technology turn th...   \n",
       "9  [not constitute prosecutable violations\" of fe...   \n",
       "\n",
       "                                        ground_truth  context_precision  \\\n",
       "0  The left-wing Revolutionary People's Liberatio...           0.950000   \n",
       "1  The perception of authenticity can impact the ...           1.000000   \n",
       "2  Conrad Roy's cause of death was apparent carbo...           0.833333   \n",
       "3  Roberts (as Vivian) is empowered and shows hum...           1.000000   \n",
       "4  The use of the n-word does not have a signific...           0.950000   \n",
       "5  The email issue has affected Hillary Clinton's...           1.000000   \n",
       "6                               Louisville, Kentucky           0.916667   \n",
       "7  The starting bid for the Grantville buildings ...           1.000000   \n",
       "8  Kick It Out is an anti-racism organization tha...           1.000000   \n",
       "9  The answer to given question is not present in...           0.000000   \n",
       "\n",
       "   faithfulness  answer_relevancy  context_recall  \n",
       "0      1.000000          0.976869        1.000000  \n",
       "1      1.000000          0.928415        0.666667  \n",
       "2      1.000000          0.990655        1.000000  \n",
       "3      0.842105          0.999146        1.000000  \n",
       "4      0.000000          0.000000        0.666667  \n",
       "5      0.888889          0.945375        0.833333  \n",
       "6      1.000000          0.934299        1.000000  \n",
       "7      1.000000          0.963829        1.000000  \n",
       "8      1.000000          0.937225        1.000000  \n",
       "9      0.666667          1.000000        0.000000  "
      ]
     },
     "execution_count": 14,
     "metadata": {},
     "output_type": "execute_result"
    }
   ],
   "source": [
    "simple_rag_evaluation_result"
   ]
  },
  {
   "cell_type": "code",
   "execution_count": 29,
   "metadata": {},
   "outputs": [],
   "source": [
    "simple_rag_evaluation_result.to_csv('/home/jabez/rizzbuzz with poetry/RAG-Optimization-System/test_data/simple_rag_evaluation_result.csv', index=False)"
   ]
  }
 ],
 "metadata": {
  "kernelspec": {
   "display_name": ".venv",
   "language": "python",
   "name": "python3"
  },
  "language_info": {
   "codemirror_mode": {
    "name": "ipython",
    "version": 3
   },
   "file_extension": ".py",
   "mimetype": "text/x-python",
   "name": "python",
   "nbconvert_exporter": "python",
   "pygments_lexer": "ipython3",
   "version": "3.10.12"
  }
 },
 "nbformat": 4,
 "nbformat_minor": 2
}
