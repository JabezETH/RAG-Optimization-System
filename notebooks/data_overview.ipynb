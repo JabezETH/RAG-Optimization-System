{
 "cells": [
  {
   "cell_type": "code",
   "execution_count": 1,
   "metadata": {},
   "outputs": [
    {
     "name": "stderr",
     "output_type": "stream",
     "text": [
      "/home/jabez/rizzbuzz with poetry/RAG-Optimization-System/.venv/lib/python3.10/site-packages/tqdm/auto.py:21: TqdmWarning: IProgress not found. Please update jupyter and ipywidgets. See https://ipywidgets.readthedocs.io/en/stable/user_install.html\n",
      "  from .autonotebook import tqdm as notebook_tqdm\n"
     ]
    }
   ],
   "source": [
    "import sys\n",
    "from dotenv import load_dotenv\n",
    "import pandas as pd\n",
    "sys.path.insert(1, '/home/jabez/week_11/Contract-Advisor-RAG')\n",
    "load_dotenv()\n",
    "sys.path.insert(1, '/home/jabez/rizzbuzz with poetry/RAG-Optimization-System/scripts')\n",
    "import file_loader \n",
    "import pipelines \n",
    "import evaluation"
   ]
  },
  {
   "cell_type": "code",
   "execution_count": 2,
   "metadata": {},
   "outputs": [],
   "source": [
    "file_path = '/home/jabez/rizzbuzz with poetry/RAG-Optimization-System/data/cnn_dailymail_3.0.0.csv'\n",
    "data = file_loader.load_csv(file_path)"
   ]
  },
  {
   "cell_type": "code",
   "execution_count": 3,
   "metadata": {},
   "outputs": [],
   "source": [
    "vectorstore_character = file_loader.character_text_splitter(data)"
   ]
  },
  {
   "cell_type": "code",
   "execution_count": 10,
   "metadata": {},
   "outputs": [
    {
     "name": "stdout",
     "output_type": "stream",
     "text": [
      "Zully Broussard\n"
     ]
    }
   ],
   "source": [
    "question = '\"who selflessly decided to give one of her kidneys to a stranger?\"'\n",
    "answer = pipelines.simple_pipeline(vectorstore_character, question)\n",
    "print(answer)"
   ]
  },
  {
   "cell_type": "code",
   "execution_count": 15,
   "metadata": {},
   "outputs": [
    {
     "name": "stderr",
     "output_type": "stream",
     "text": [
      "Filename and doc_id are the same for all nodes.                     \n",
      "Generating:  90%|█████████ | 9/10 [00:46<00:07,  7.14s/it]"
     ]
    }
   ],
   "source": [
    "file_path = '/home/jabez/rizzbuzz with poetry/RAG-Optimization-System/test_data/syntetic_test_data.csv'\n",
    "evaluation.generate_syntetic_testdata(data, file_path)"
   ]
  },
  {
   "cell_type": "code",
   "execution_count": 4,
   "metadata": {},
   "outputs": [],
   "source": [
    "syntetic_test_data = pd.read_csv('/home/jabez/rizzbuzz with poetry/RAG-Optimization-System/test_data/syntetic_test_data.csv')"
   ]
  },
  {
   "cell_type": "code",
   "execution_count": 5,
   "metadata": {},
   "outputs": [],
   "source": [
    "retriver = vectorstore_character.as_retriever(search_type=\"similarity\", search_kwargs={\"k\": 6})\n"
   ]
  },
  {
   "cell_type": "code",
   "execution_count": 6,
   "metadata": {},
   "outputs": [
    {
     "name": "stderr",
     "output_type": "stream",
     "text": [
      "/home/jabez/rizzbuzz with poetry/RAG-Optimization-System/.venv/lib/python3.10/site-packages/langchain_core/_api/deprecation.py:139: LangChainDeprecationWarning: The method `BaseRetriever.get_relevant_documents` was deprecated in langchain-core 0.1.46 and will be removed in 0.3.0. Use invoke instead.\n",
      "  warn_deprecated(\n",
      "Creating CSV from Arrow format: 100%|██████████| 1/1 [00:00<00:00, 95.39ba/s]\n"
     ]
    }
   ],
   "source": [
    "file_path_with_answer = '/home/jabez/rizzbuzz with poetry/RAG-Optimization-System/test_data/syntetic_test_data_with_answer.csv'\n",
    "syntetic_test_data_with_answer = evaluation.adding_answer_to_testdata(syntetic_test_data, pipelines.simple_pipeline, vectorstore_character, retriver, file_path_with_answer)"
   ]
  },
  {
   "cell_type": "code",
   "execution_count": 7,
   "metadata": {},
   "outputs": [],
   "source": [
    "syntetic_test_data_with_answer = pd.read_csv('/home/jabez/rizzbuzz with poetry/RAG-Optimization-System/test_data/syntetic_test_data_with_answer.csv')"
   ]
  },
  {
   "cell_type": "code",
   "execution_count": 7,
   "metadata": {},
   "outputs": [
    {
     "name": "stderr",
     "output_type": "stream",
     "text": [
      "Evaluating: 100%|██████████| 36/36 [00:23<00:00,  1.56it/s]\n"
     ]
    }
   ],
   "source": [
    "simple_rag_evaluation_result = evaluation.ragas_evaluator(syntetic_test_data_with_answer)"
   ]
  },
  {
   "cell_type": "code",
   "execution_count": 8,
   "metadata": {},
   "outputs": [
    {
     "data": {
      "text/html": [
       "<div>\n",
       "<style scoped>\n",
       "    .dataframe tbody tr th:only-of-type {\n",
       "        vertical-align: middle;\n",
       "    }\n",
       "\n",
       "    .dataframe tbody tr th {\n",
       "        vertical-align: top;\n",
       "    }\n",
       "\n",
       "    .dataframe thead th {\n",
       "        text-align: right;\n",
       "    }\n",
       "</style>\n",
       "<table border=\"1\" class=\"dataframe\">\n",
       "  <thead>\n",
       "    <tr style=\"text-align: right;\">\n",
       "      <th></th>\n",
       "      <th>question</th>\n",
       "      <th>answer</th>\n",
       "      <th>contexts</th>\n",
       "      <th>ground_truth</th>\n",
       "      <th>context_precision</th>\n",
       "      <th>faithfulness</th>\n",
       "      <th>answer_relevancy</th>\n",
       "      <th>context_recall</th>\n",
       "    </tr>\n",
       "  </thead>\n",
       "  <tbody>\n",
       "    <tr>\n",
       "      <th>0</th>\n",
       "      <td>What are some reasons why churches do not carb...</td>\n",
       "      <td>Some reasons why churches do not carbon date r...</td>\n",
       "      <td>[being carbon dated and there are a few reason...</td>\n",
       "      <td>Carbon dating is expensive and most churches d...</td>\n",
       "      <td>0.926667</td>\n",
       "      <td>1.0</td>\n",
       "      <td>0.000000</td>\n",
       "      <td>1.0</td>\n",
       "    </tr>\n",
       "    <tr>\n",
       "      <th>1</th>\n",
       "      <td>How do fans of Supreme Court Justice Ruth Bade...</td>\n",
       "      <td>Fans of Supreme Court Justice Ruth Bader Ginsb...</td>\n",
       "      <td>[article: (CNN)It's no secret that Supreme Cou...</td>\n",
       "      <td>Fans of Supreme Court Justice Ruth Bader Ginsb...</td>\n",
       "      <td>1.000000</td>\n",
       "      <td>1.0</td>\n",
       "      <td>1.000000</td>\n",
       "      <td>1.0</td>\n",
       "    </tr>\n",
       "    <tr>\n",
       "      <th>2</th>\n",
       "      <td>What role do Shia militias play in the fight a...</td>\n",
       "      <td>Shia militias play a significant role in the f...</td>\n",
       "      <td>[analyst. \"The Iranians are smart enough to kn...</td>\n",
       "      <td>Shia militias play a significant role in the f...</td>\n",
       "      <td>1.000000</td>\n",
       "      <td>1.0</td>\n",
       "      <td>0.900197</td>\n",
       "      <td>1.0</td>\n",
       "    </tr>\n",
       "    <tr>\n",
       "      <th>3</th>\n",
       "      <td>How has Valparaiso's success in the tournament...</td>\n",
       "      <td>Valparaiso's success in the tournament has led...</td>\n",
       "      <td>[scouts attending his games, being drafted by ...</td>\n",
       "      <td>Valparaiso's success in the tournament has imp...</td>\n",
       "      <td>1.000000</td>\n",
       "      <td>0.6</td>\n",
       "      <td>0.945975</td>\n",
       "      <td>1.0</td>\n",
       "    </tr>\n",
       "    <tr>\n",
       "      <th>4</th>\n",
       "      <td>Who is Parisa Tabriz and what is her role at G...</td>\n",
       "      <td>Parisa Tabriz is the 31-year-old computer whiz...</td>\n",
       "      <td>[highlights: Parisa Tabriz is the 31-year-old ...</td>\n",
       "      <td>Parisa Tabriz is a 31-year-old computer whizz ...</td>\n",
       "      <td>1.000000</td>\n",
       "      <td>1.0</td>\n",
       "      <td>0.981642</td>\n",
       "      <td>1.0</td>\n",
       "    </tr>\n",
       "    <tr>\n",
       "      <th>5</th>\n",
       "      <td>What was Ben Ferguson's argument about rappers...</td>\n",
       "      <td>Ben Ferguson's argument was that rappers are a...</td>\n",
       "      <td>[article: (CNN)Things got testy on \"CNN Tonigh...</td>\n",
       "      <td>Ben Ferguson argued that rappers are afraid th...</td>\n",
       "      <td>1.000000</td>\n",
       "      <td>1.0</td>\n",
       "      <td>0.973895</td>\n",
       "      <td>1.0</td>\n",
       "    </tr>\n",
       "    <tr>\n",
       "      <th>6</th>\n",
       "      <td>What are the additional factors proposed for t...</td>\n",
       "      <td>The additional factors proposed for the Buddy ...</td>\n",
       "      <td>[highlights: Don McLean: It's bad idea for NTS...</td>\n",
       "      <td>The additional factors proposed for the Buddy ...</td>\n",
       "      <td>1.000000</td>\n",
       "      <td>1.0</td>\n",
       "      <td>0.932058</td>\n",
       "      <td>1.0</td>\n",
       "    </tr>\n",
       "    <tr>\n",
       "      <th>7</th>\n",
       "      <td>What challenges does Amran Abdundi face in her...</td>\n",
       "      <td>Amran Abdundi faces challenges such as the ong...</td>\n",
       "      <td>[article: London, England (CNN)Along the dange...</td>\n",
       "      <td>Amran Abdundi faces numerous challenges in her...</td>\n",
       "      <td>1.000000</td>\n",
       "      <td>1.0</td>\n",
       "      <td>0.950915</td>\n",
       "      <td>1.0</td>\n",
       "    </tr>\n",
       "    <tr>\n",
       "      <th>8</th>\n",
       "      <td>How do fans of Supreme Court Justice Ruth Bade...</td>\n",
       "      <td>Fans of Supreme Court Justice Ruth Bader Ginsb...</td>\n",
       "      <td>[article: (CNN)It's no secret that Supreme Cou...</td>\n",
       "      <td>Fans of Supreme Court Justice Ruth Bader Ginsb...</td>\n",
       "      <td>1.000000</td>\n",
       "      <td>1.0</td>\n",
       "      <td>1.000000</td>\n",
       "      <td>1.0</td>\n",
       "    </tr>\n",
       "  </tbody>\n",
       "</table>\n",
       "</div>"
      ],
      "text/plain": [
       "                                            question  \\\n",
       "0  What are some reasons why churches do not carb...   \n",
       "1  How do fans of Supreme Court Justice Ruth Bade...   \n",
       "2  What role do Shia militias play in the fight a...   \n",
       "3  How has Valparaiso's success in the tournament...   \n",
       "4  Who is Parisa Tabriz and what is her role at G...   \n",
       "5  What was Ben Ferguson's argument about rappers...   \n",
       "6  What are the additional factors proposed for t...   \n",
       "7  What challenges does Amran Abdundi face in her...   \n",
       "8  How do fans of Supreme Court Justice Ruth Bade...   \n",
       "\n",
       "                                              answer  \\\n",
       "0  Some reasons why churches do not carbon date r...   \n",
       "1  Fans of Supreme Court Justice Ruth Bader Ginsb...   \n",
       "2  Shia militias play a significant role in the f...   \n",
       "3  Valparaiso's success in the tournament has led...   \n",
       "4  Parisa Tabriz is the 31-year-old computer whiz...   \n",
       "5  Ben Ferguson's argument was that rappers are a...   \n",
       "6  The additional factors proposed for the Buddy ...   \n",
       "7  Amran Abdundi faces challenges such as the ong...   \n",
       "8  Fans of Supreme Court Justice Ruth Bader Ginsb...   \n",
       "\n",
       "                                            contexts  \\\n",
       "0  [being carbon dated and there are a few reason...   \n",
       "1  [article: (CNN)It's no secret that Supreme Cou...   \n",
       "2  [analyst. \"The Iranians are smart enough to kn...   \n",
       "3  [scouts attending his games, being drafted by ...   \n",
       "4  [highlights: Parisa Tabriz is the 31-year-old ...   \n",
       "5  [article: (CNN)Things got testy on \"CNN Tonigh...   \n",
       "6  [highlights: Don McLean: It's bad idea for NTS...   \n",
       "7  [article: London, England (CNN)Along the dange...   \n",
       "8  [article: (CNN)It's no secret that Supreme Cou...   \n",
       "\n",
       "                                        ground_truth  context_precision  \\\n",
       "0  Carbon dating is expensive and most churches d...           0.926667   \n",
       "1  Fans of Supreme Court Justice Ruth Bader Ginsb...           1.000000   \n",
       "2  Shia militias play a significant role in the f...           1.000000   \n",
       "3  Valparaiso's success in the tournament has imp...           1.000000   \n",
       "4  Parisa Tabriz is a 31-year-old computer whizz ...           1.000000   \n",
       "5  Ben Ferguson argued that rappers are afraid th...           1.000000   \n",
       "6  The additional factors proposed for the Buddy ...           1.000000   \n",
       "7  Amran Abdundi faces numerous challenges in her...           1.000000   \n",
       "8  Fans of Supreme Court Justice Ruth Bader Ginsb...           1.000000   \n",
       "\n",
       "   faithfulness  answer_relevancy  context_recall  \n",
       "0           1.0          0.000000             1.0  \n",
       "1           1.0          1.000000             1.0  \n",
       "2           1.0          0.900197             1.0  \n",
       "3           0.6          0.945975             1.0  \n",
       "4           1.0          0.981642             1.0  \n",
       "5           1.0          0.973895             1.0  \n",
       "6           1.0          0.932058             1.0  \n",
       "7           1.0          0.950915             1.0  \n",
       "8           1.0          1.000000             1.0  "
      ]
     },
     "execution_count": 8,
     "metadata": {},
     "output_type": "execute_result"
    }
   ],
   "source": [
    "simple_rag_evaluation_result"
   ]
  }
 ],
 "metadata": {
  "kernelspec": {
   "display_name": ".venv",
   "language": "python",
   "name": "python3"
  },
  "language_info": {
   "codemirror_mode": {
    "name": "ipython",
    "version": 3
   },
   "file_extension": ".py",
   "mimetype": "text/x-python",
   "name": "python",
   "nbconvert_exporter": "python",
   "pygments_lexer": "ipython3",
   "version": "3.10.12"
  }
 },
 "nbformat": 4,
 "nbformat_minor": 2
}
